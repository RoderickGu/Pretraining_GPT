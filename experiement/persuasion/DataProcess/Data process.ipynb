{
 "cells": [
  {
   "cell_type": "code",
   "execution_count": 1,
   "metadata": {},
   "outputs": [],
   "source": [
    "import torch\n",
    "import torch.nn as nn\n",
    "import pandas as pd\n",
    "import numpy as np\n",
    "\n",
    "from pytorch_pretrained_bert import GPT2Tokenizer"
   ]
  },
  {
   "cell_type": "code",
   "execution_count": 2,
   "metadata": {},
   "outputs": [],
   "source": [
    "tokenizer = GPT2Tokenizer.from_pretrained(\"gpt2\")"
   ]
  },
  {
   "cell_type": "code",
   "execution_count": 3,
   "metadata": {},
   "outputs": [],
   "source": [
    "raw_train_dialogs =  torch.load(\"raw_train_dialogs.pkl\")\n",
    "raw_val_dialogs  = torch.load(\"raw_val_dialogs.pkl\")"
   ]
  },
  {
   "cell_type": "code",
   "execution_count": 8,
   "metadata": {},
   "outputs": [],
   "source": [
    "def extract(dialogs):\n",
    "    data = []\n",
    "    \n",
    "    for raw_dial in dialogs:\n",
    "        dial = [item for item in raw_dial[\"Unit\"]]\n",
    "        role = list(raw_dial[\"B4\"])\n",
    "        \n",
    "        for i in range(len(dial)):\n",
    "            if role[i] == 0:\n",
    "                dial[i] = \"A:\" + dial[i]\n",
    "            else:\n",
    "                dial[i] = \"B:\" + dial[i]\n",
    "\n",
    "        line = dial\n",
    "    \n",
    "        data.append(line)\n",
    "\n",
    "    return data"
   ]
  },
  {
   "cell_type": "code",
   "execution_count": 9,
   "metadata": {},
   "outputs": [],
   "source": [
    "train_dialogs = extract(raw_train_dialogs)\n",
    "val_dialogs = extract(raw_val_dialogs)"
   ]
  },
  {
   "cell_type": "code",
   "execution_count": 10,
   "metadata": {},
   "outputs": [],
   "source": [
    "torch.save(train_dialogs, \"train_dialogs.pkl\")\n",
    "torch.save(val_dialogs, \"val_dialogs.pkl\")"
   ]
  },
  {
   "cell_type": "code",
   "execution_count": null,
   "metadata": {},
   "outputs": [],
   "source": []
  }
 ],
 "metadata": {
  "kernelspec": {
   "display_name": "Python 3",
   "language": "python",
   "name": "python3"
  },
  "language_info": {
   "codemirror_mode": {
    "name": "ipython",
    "version": 3
   },
   "file_extension": ".py",
   "mimetype": "text/x-python",
   "name": "python",
   "nbconvert_exporter": "python",
   "pygments_lexer": "ipython3",
   "version": "3.7.1"
  }
 },
 "nbformat": 4,
 "nbformat_minor": 2
}
